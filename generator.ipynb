{
 "cells": [
  {
   "cell_type": "code",
   "execution_count": 1,
   "id": "bd743572-968d-4c0f-8ed5-58b6ff465713",
   "metadata": {},
   "outputs": [],
   "source": [
    "import openpyxl # 导入openpyxl模块\n",
    "wb = openpyxl.load_workbook('a.xlsx') # 创建workbook对象\n",
    "ws = wb.active"
   ]
  },
  {
   "cell_type": "code",
   "execution_count": 2,
   "id": "fcef194c-72ca-45bd-a98e-dd0628c09390",
   "metadata": {},
   "outputs": [],
   "source": [
    "alphabets = [\n",
    "            \"{\",                \"}\",                \"if\",               \"(\",                \")\",\n",
    "            \"then\",             \"else\",             \"while\",            \"ID\",               \"=\",\n",
    "            \">\",                \"<\",                \">=\",               \"<=\",               \"==\",\n",
    "            \"+\",                \"-\",                \"*\",                \"/\",                \"NUM\",\n",
    "            \"E\",                \"$\",                \";\",                \"cs\",     \"s\",\n",
    "            \"ifs\",           \"whiles\",        \"as\",         \"ss\",            \"boole\",\n",
    "            \"ae\",        \"boolop\",           \"me\",         \"aep\",   \"se\",\n",
    "            \"mep\",    \"program\"\n",
    "]"
   ]
  },
  {
   "cell_type": "code",
   "execution_count": 3,
   "id": "7d1d57db-0227-40e0-bab6-f924c51a52ce",
   "metadata": {},
   "outputs": [
    {
     "name": "stdout",
     "output_type": "stream",
     "text": [
      "[0, 2, 3, 4, 5, 6, 7, 1, 8, 9, 11, 10, 13, 12, 14, 15, 16, 17, 18, 19, 22, 21, 23, 24, 25, 26, 27, 23, 28, 29, 30, 31, 32, 33, 34, 35]\n",
      "36\n"
     ]
    }
   ],
   "source": [
    "seq = []\n",
    "for cell in ws[\"2\"]:\n",
    "    if cell.value is not None:\n",
    "        for i in range(0,36):\n",
    "            if alphabets[i] == cell.value:\n",
    "                seq.append(i)\n",
    "print(seq)\n",
    "print(len(seq))"
   ]
  },
  {
   "cell_type": "code",
   "execution_count": 4,
   "id": "32d14e76-70d8-4c6e-b2bc-1d2ee94fa17b",
   "metadata": {},
   "outputs": [],
   "source": [
    "# write\n",
    "with  open('b.txt','w') as f:\n",
    "    i = 0;\n",
    "    for row in ws['3:59']: #for each row\n",
    "        f.write('L = new LRState();\\n')\n",
    "        f.write('//state{0}'.format(i))\n",
    "        f.write(\"\\n\")\n",
    "        i += 1;\n",
    "        for cell in row[1:]:\n",
    "            if cell.value is None:\n",
    "                continue\n",
    "            if str(cell.value)[0] == 's':\n",
    "                f.write('L.add(0,0,{0},{1});\\n'.format(seq[cell.column - 2],cell.value[1:]))\n",
    "            elif str(cell.value)[0] == 'r':\n",
    "                f.write('L.add(0,1,{0},{1});\\n'.format(seq[cell.column - 2],cell.value[1:]))\n",
    "            elif str(cell.value)[0] == 'a':\n",
    "                f.write('L.add(0,2,21,0);\\n')\n",
    "            else:\n",
    "                f.write('L.add(1,0,{0},{1});\\n'.format(seq[cell.column - 2],cell.value))\n",
    "        f.write('LRStates.add(L);\\n')\n",
    "    f.close()"
   ]
  },
  {
   "cell_type": "code",
   "execution_count": 5,
   "id": "61746370-515e-4cc1-aa49-6db8cc7241b8",
   "metadata": {},
   "outputs": [
    {
     "name": "stdout",
     "output_type": "stream",
     "text": [
      "True\n"
     ]
    }
   ],
   "source": [
    "cell = ws['8'][2]\n",
    "print(str(cell.value)[0] == 's')"
   ]
  },
  {
   "cell_type": "code",
   "execution_count": null,
   "id": "84d472ef-402a-473b-8804-3c80b35ab596",
   "metadata": {},
   "outputs": [],
   "source": []
  }
 ],
 "metadata": {
  "kernelspec": {
   "display_name": "Python 3 (ipykernel)",
   "language": "python",
   "name": "python3"
  },
  "language_info": {
   "codemirror_mode": {
    "name": "ipython",
    "version": 3
   },
   "file_extension": ".py",
   "mimetype": "text/x-python",
   "name": "python",
   "nbconvert_exporter": "python",
   "pygments_lexer": "ipython3",
   "version": "3.9.13"
  }
 },
 "nbformat": 4,
 "nbformat_minor": 5
}
